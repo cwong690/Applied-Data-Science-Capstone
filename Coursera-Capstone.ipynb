{
 "cells": [
  {
   "cell_type": "markdown",
   "metadata": {},
   "source": [
    "This is the Capstone Project for the Applied Data Science course on Coursera."
   ]
  },
  {
   "cell_type": "code",
   "execution_count": 7,
   "metadata": {},
   "outputs": [],
   "source": [
    "import requests #library that handles requests\n",
    "import pandas as pd\n",
    "import numpy as np\n",
    "import random"
   ]
  },
  {
   "cell_type": "code",
   "execution_count": 3,
   "metadata": {},
   "outputs": [
    {
     "name": "stdout",
     "output_type": "stream",
     "text": [
      "Collecting package metadata (repodata.json): done\n",
      "Solving environment: \\ \n",
      "The environment is inconsistent, please check the package plan carefully\n",
      "The following packages are causing the inconsistency:\n",
      "\n",
      "  - defaults/osx-64::scikit-learn==0.19.2=py37h4f467ca_0\n",
      "  - defaults/osx-64::anaconda==5.3.1=py37_0\n",
      "  - defaults/osx-64::pytables==3.4.4=py37h13cba08_0\n",
      "  - defaults/osx-64::numexpr==2.6.8=py37h1dc9127_0\n",
      "  - defaults/osx-64::blaze==0.11.3=py37_0\n",
      "done\n",
      "\n",
      "\n",
      "==> WARNING: A newer version of conda exists. <==\n",
      "  current version: 4.7.11\n",
      "  latest version: 4.7.12\n",
      "\n",
      "Please update conda by running\n",
      "\n",
      "    $ conda update -n base -c defaults conda\n",
      "\n",
      "\n",
      "\n",
      "## Package Plan ##\n",
      "\n",
      "  environment location: /Users/cindywong/anaconda3\n",
      "\n",
      "  added / updated specs:\n",
      "    - geopy\n",
      "\n",
      "\n",
      "The following packages will be downloaded:\n",
      "\n",
      "    package                    |            build\n",
      "    ---------------------------|-----------------\n",
      "    _anaconda_depends-2019.03  |           py37_0           5 KB\n",
      "    anaconda-custom            |           py37_1           3 KB\n",
      "    backports.os-0.1.1         |        py37_1001          15 KB  conda-forge\n",
      "    ca-certificates-2019.9.11  |       hecc5488_0         143 KB  conda-forge\n",
      "    certifi-2019.9.11          |           py37_0         147 KB  conda-forge\n",
      "    conda-4.7.12               |           py37_0         3.0 MB  conda-forge\n",
      "    geographiclib-1.50         |             py_0          34 KB  conda-forge\n",
      "    geopy-1.20.0               |             py_0          57 KB  conda-forge\n",
      "    importlib_metadata-0.23    |           py37_0          39 KB  conda-forge\n",
      "    joblib-0.13.2              |             py_0         180 KB  conda-forge\n",
      "    jupyterlab_server-0.3.2    |             py_0          23 KB  conda-forge\n",
      "    liblief-0.9.0              |       h2a1bed3_1         3.9 MB  conda-forge\n",
      "    llvm-openmp-9.0.0          |       h40edb58_0         266 KB  conda-forge\n",
      "    numexpr-2.7.0              |   py37h86efe34_0         129 KB  conda-forge\n",
      "    openssl-1.1.1c             |       h01d97ff_0         1.9 MB  conda-forge\n",
      "    py-lief-0.9.0              |   py37h6d6d4d2_1         1.4 MB  conda-forge\n",
      "    pyrsistent-0.15.4          |   py37h01d97ff_0          87 KB  conda-forge\n",
      "    scikit-learn-0.21.3        |   py37h27c97d8_0         5.9 MB\n",
      "    soupsieve-1.9.4            |           py37_0          57 KB  conda-forge\n",
      "    wurlitzer-1.0.3            |           py37_0          12 KB  conda-forge\n",
      "    zipp-0.6.0                 |             py_0           7 KB  conda-forge\n",
      "    ------------------------------------------------------------\n",
      "                                           Total:        17.2 MB\n",
      "\n",
      "The following NEW packages will be INSTALLED:\n",
      "\n",
      "  _anaconda_depends  pkgs/main/osx-64::_anaconda_depends-2019.03-py37_0\n",
      "  backports.os       conda-forge/osx-64::backports.os-0.1.1-py37_1001\n",
      "  geographiclib      conda-forge/noarch::geographiclib-1.50-py_0\n",
      "  geopy              conda-forge/noarch::geopy-1.20.0-py_0\n",
      "  importlib_metadata conda-forge/osx-64::importlib_metadata-0.23-py37_0\n",
      "  joblib             conda-forge/noarch::joblib-0.13.2-py_0\n",
      "  jupyterlab_server  conda-forge/noarch::jupyterlab_server-0.3.2-py_0\n",
      "  liblief            conda-forge/osx-64::liblief-0.9.0-h2a1bed3_1\n",
      "  llvm-openmp        conda-forge/osx-64::llvm-openmp-9.0.0-h40edb58_0\n",
      "  py-lief            conda-forge/osx-64::py-lief-0.9.0-py37h6d6d4d2_1\n",
      "  pyrsistent         conda-forge/osx-64::pyrsistent-0.15.4-py37h01d97ff_0\n",
      "  soupsieve          conda-forge/osx-64::soupsieve-1.9.4-py37_0\n",
      "  wurlitzer          conda-forge/osx-64::wurlitzer-1.0.3-py37_0\n",
      "  zipp               conda-forge/noarch::zipp-0.6.0-py_0\n",
      "\n",
      "The following packages will be UPDATED:\n",
      "\n",
      "  ca-certificates    pkgs/main::ca-certificates-2019.5.15-1 --> conda-forge::ca-certificates-2019.9.11-hecc5488_0\n",
      "  certifi               pkgs/main::certifi-2019.6.16-py37_1 --> conda-forge::certifi-2019.9.11-py37_0\n",
      "  conda                      pkgs/main::conda-4.7.11-py37_0 --> conda-forge::conda-4.7.12-py37_0\n",
      "  numexpr            pkgs/main::numexpr-2.6.8-py37h1dc9127~ --> conda-forge::numexpr-2.7.0-py37h86efe34_0\n",
      "  scikit-learn                        0.19.2-py37h4f467ca_0 --> 0.21.3-py37h27c97d8_0\n",
      "\n",
      "The following packages will be SUPERSEDED by a higher-priority channel:\n",
      "\n",
      "  openssl              pkgs/main::openssl-1.1.1c-h1de35cc_1 --> conda-forge::openssl-1.1.1c-h01d97ff_0\n",
      "\n",
      "The following packages will be DOWNGRADED:\n",
      "\n",
      "  anaconda                                     5.3.1-py37_0 --> custom-py37_1\n",
      "\n",
      "\n",
      "\n",
      "Downloading and Extracting Packages\n",
      "geographiclib-1.50   | 34 KB     | ##################################### | 100% \n",
      "backports.os-0.1.1   | 15 KB     | ##################################### | 100% \n",
      "ca-certificates-2019 | 143 KB    | ##################################### | 100% \n",
      "geopy-1.20.0         | 57 KB     | ##################################### | 100% \n",
      "joblib-0.13.2        | 180 KB    | ##################################### | 100% \n",
      "wurlitzer-1.0.3      | 12 KB     | ##################################### | 100% \n",
      "scikit-learn-0.21.3  | 5.9 MB    | ##################################### | 100% \n",
      "zipp-0.6.0           | 7 KB      | ##################################### | 100% \n",
      "soupsieve-1.9.4      | 57 KB     | ##################################### | 100% \n",
      "llvm-openmp-9.0.0    | 266 KB    | ##################################### | 100% \n",
      "jupyterlab_server-0. | 23 KB     | ##################################### | 100% \n",
      "openssl-1.1.1c       | 1.9 MB    | ##################################### | 100% \n",
      "numexpr-2.7.0        | 129 KB    | ##################################### | 100% \n",
      "conda-4.7.12         | 3.0 MB    | ##################################### | 100% \n",
      "importlib_metadata-0 | 39 KB     | ##################################### | 100% \n",
      "_anaconda_depends-20 | 5 KB      | ##################################### | 100% \n",
      "pyrsistent-0.15.4    | 87 KB     | ##################################### | 100% \n",
      "certifi-2019.9.11    | 147 KB    | ##################################### | 100% \n",
      "py-lief-0.9.0        | 1.4 MB    | ##################################### | 100% \n",
      "anaconda-custom      | 3 KB      | ##################################### | 100% \n",
      "liblief-0.9.0        | 3.9 MB    | ##################################### | 100% \n",
      "Preparing transaction: done\n",
      "Verifying transaction: done\n",
      "Executing transaction: done\n"
     ]
    }
   ],
   "source": [
    "!conda install -c conda-forge geopy --yes"
   ]
  },
  {
   "cell_type": "code",
   "execution_count": 9,
   "metadata": {},
   "outputs": [],
   "source": [
    "from geopy.geocoders import Nominatim #module that converts address to lat and long\n",
    "\n",
    "#libraries for displaying images\n",
    "from IPython.display import Image\n",
    "from IPython.core.display import HTML\n",
    "\n",
    "#transforms json file to pandas dataframe library\n",
    "from pandas.io.json import json_normalize"
   ]
  },
  {
   "cell_type": "code",
   "execution_count": null,
   "metadata": {},
   "outputs": [],
   "source": [
    "!conda install -c conda-forge folium=0.5.0 --yes\n",
    "import folium #plotting library\n",
    "\n",
    "print('Folium installed and libraries imported')"
   ]
  },
  {
   "cell_type": "code",
   "execution_count": 12,
   "metadata": {},
   "outputs": [
    {
     "name": "stdout",
     "output_type": "stream",
     "text": [
      "Your credentials:\n",
      "CLIENT_ID: VHZM10UIGEKH1UMU2RG0E13CGHNYPUFBVQ3QU2DHBO0VA2QF\n",
      "CLIENT_SECRET: JGRJYABMNMV2LRIR3YOVVALEE2UBS5PBXEOIMMBWIT5HWLTU\n"
     ]
    }
   ],
   "source": [
    "CLIENT_ID = 'VHZM10UIGEKH1UMU2RG0E13CGHNYPUFBVQ3QU2DHBO0VA2QF'\n",
    "CLIENT_SECRET = 'JGRJYABMNMV2LRIR3YOVVALEE2UBS5PBXEOIMMBWIT5HWLTU'\n",
    "VERSION = '20180604'\n",
    "LIMIT = 30\n",
    "print('Your credentials:')\n",
    "print('CLIENT_ID: ' + CLIENT_ID)\n",
    "print('CLIENT_SECRET: ' + CLIENT_SECRET)"
   ]
  },
  {
   "cell_type": "code",
   "execution_count": null,
   "metadata": {},
   "outputs": [],
   "source": []
  }
 ],
 "metadata": {
  "kernelspec": {
   "display_name": "Python 3",
   "language": "python",
   "name": "python3"
  },
  "language_info": {
   "codemirror_mode": {
    "name": "ipython",
    "version": 3
   },
   "file_extension": ".py",
   "mimetype": "text/x-python",
   "name": "python",
   "nbconvert_exporter": "python",
   "pygments_lexer": "ipython3",
   "version": "3.7.2"
  }
 },
 "nbformat": 4,
 "nbformat_minor": 2
}
